{
 "cells": [
  {
   "cell_type": "markdown",
   "metadata": {
    "collapsed": false
   },
   "source": [
    "## Example: Within-state alignment of peak lists from multiple experiments\n",
    "\n",
    "In this example the experiments ``a0806_077``, ``a0806_078``, and ``a0806_079``\n",
    "prepared in the previous example will be aligned, and therefore the notebook\n",
    "``Multiple_Experiments.ipynb`` must be run first to create the files \n",
    "``a0806_077.expr``, ``a0806_078.expr``, ``a0806_079.expr``. These files contain\n",
    "the post-processed peak lists from the three experiments.\n",
    "\n",
    "First, determine the directory to the experiment files and import the required functions."
   ]
  },
  {
   "cell_type": "code",
   "execution_count": 1,
   "metadata": {
    "execution": {}
   },
   "outputs": [],
   "source": [
    "import pathlib\n",
    "output_directory = pathlib.Path(\".\").resolve() / \"output\"\n",
    "\n",
    "from pyms.DPA.PairwiseAlignment import PairwiseAlignment, align_with_tree\n",
    "from pyms.DPA.Alignment import exprl2alignment\n",
    "from pyms.Experiment import load_expr"
   ]
  },
  {
   "cell_type": "markdown",
   "metadata": {
    "collapsed": false
   },
   "source": [
    "Define the input experiments list."
   ]
  },
  {
   "cell_type": "code",
   "execution_count": 2,
   "metadata": {
    "execution": {}
   },
   "outputs": [],
   "source": [
    "exprA_codes = [\"a0806_077\", \"a0806_078\", \"a0806_079\"] "
   ]
  },
  {
   "cell_type": "markdown",
   "metadata": {
    "collapsed": false
   },
   "source": [
    "Read the experiment files from disk and create a list of the loaded |Experiment| objects."
   ]
  },
  {
   "cell_type": "code",
   "execution_count": 3,
   "metadata": {
    "execution": {}
   },
   "outputs": [],
   "source": [
    "expr_list = []\n",
    "\n",
    "for expr_code in exprA_codes:\n",
    "    file_name = output_directory / \"experiments\" / f\"{expr_code}.expr\"\n",
    "    expr = load_expr(file_name)\n",
    "    expr_list.append(expr)"
   ]
  },
  {
   "cell_type": "markdown",
   "metadata": {
    "collapsed": false
   },
   "source": [
    "Define the within-state alignment parameters."
   ]
  },
  {
   "cell_type": "code",
   "execution_count": 4,
   "metadata": {
    "execution": {}
   },
   "outputs": [],
   "source": [
    "Dw = 2.5  # rt modulation [s]\n",
    "Gw = 0.30 # gap penalty"
   ]
  },
  {
   "cell_type": "markdown",
   "metadata": {
    "collapsed": false
   },
   "source": [
    "Convert each |Experiment| object is converted into an |Alignment| object with\n",
    "the function |exprl2alignment()|."
   ]
  },
  {
   "cell_type": "code",
   "execution_count": 5,
   "metadata": {
    "execution": {}
   },
   "outputs": [],
   "source": [
    "F1 = exprl2alignment(expr_list)"
   ]
  },
  {
   "cell_type": "markdown",
   "metadata": {
    "collapsed": false
   },
   "source": [
    "In this example, there is only one experimental condition so the alignment\n",
    "object is only for within group alignment (this special case is called\n",
    "1-alignment). The variable ``F1`` is a Python list containing three alignment\n",
    "objects.\n",
    "\n",
    "Perform pairwise alignment. The class |pyms.DPA.Class.PairwiseAlignment|\n",
    "calculates the similarity between all peaks in one sample with those of another sample.\n",
    "This is done for all possible pairwise alignments (2-alignments)."
   ]
  },
  {
   "cell_type": "code",
   "execution_count": 6,
   "metadata": {
    "execution": {}
   },
   "outputs": [
    {
     "name": "stdout",
     "output_type": "stream",
     "text": [
      " Calculating pairwise alignments for 3 alignments (D=2.50, gap=0.30)\n",
      " -> 2 pairs remaining\n",
      " -> 1 pairs remaining\n",
      " -> 0 pairs remaining\n",
      " -> Clustering 6 pairwise alignments.Done\n"
     ]
    }
   ],
   "source": [
    "T1 = PairwiseAlignment(F1, Dw, Gw)"
   ]
  },
  {
   "cell_type": "markdown",
   "metadata": {
    "collapsed": false
   },
   "source": [
    "The parameters for the alignment by dynamic programming are: ``Dw``, the\n",
    "retention time modulation in seconds; and ``Gw``, the gap penalty. These \n",
    "parameters are explained in detail in [1]_.\n",
    "\n",
    "The output of |PairwiseAlignment| (``T1``) is an object which contains the\n",
    "dendrogram tree that maps the similarity relationship between the input\n",
    "1-alignments, and also 1-alignments themselves.\n",
    "\n",
    "The function |align_with_tree()| then takes the object ``T1`` and aligns the\n",
    "individual alignment objects according to the guide tree."
   ]
  },
  {
   "cell_type": "code",
   "execution_count": 7,
   "metadata": {
    "execution": {}
   },
   "outputs": [
    {
     "name": "stdout",
     "output_type": "stream",
     "text": [
      " Aligning 3 items with guide tree (D=2.50, gap=0.30)\n",
      " -> 1 item(s) remaining\n",
      " -> 0 item(s) remaining\n"
     ]
    }
   ],
   "source": [
    "A1 = align_with_tree(T1, min_peaks=2)"
   ]
  },
  {
   "cell_type": "markdown",
   "metadata": {
    "collapsed": false
   },
   "source": [
    "In this example, the individual alignments are three 1-alignments, and the \n",
    "function |align_with_tree()| first creates a 2-alignment from the two most\n",
    "similar 1-alignments and then adds the third 1-alignment to this to create\n",
    "a 3-alignment.\n",
    "\n",
    "The parameter ``min_peaks=2`` specifies that any peak column of the data\n",
    "matrix that has fewer than two peaks in the final alignment will be dropped.\n",
    "This is useful to clean up the data matrix of accidental peaks that are not\n",
    "truly observed over the set of replicates.\n",
    "\n",
    "Finally, the resulting 3-alignment is saved by writing alignment tables\n",
    "containing peak retention times (``rt.csv``) and the corresponding peak areas\n",
    "(``area.csv``). These are plain ASCII files in CSV format."
   ]
  },
  {
   "cell_type": "code",
   "execution_count": 8,
   "metadata": {
    "execution": {}
   },
   "outputs": [],
   "source": [
    "A1.write_csv(\n",
    "\t\toutput_directory / \"within_state_alignment\" / 'a_rt.csv', \n",
    "\t\toutput_directory / \"within_state_alignment\" / 'a_area.csv',\n",
    "\t\t)\n"
   ]
  },
  {
   "cell_type": "markdown",
   "metadata": {
    "collapsed": false
   },
   "source": [
    "The file ``area1.csv`` contains the data matrix where the corresponding peaks are aligned in the columns and each row corresponds to an experiment.\n",
    "The file ``rt1.csv`` is useful for manually inspecting the alignment.\n",
    "\n",
    "## Example: Between-state alignment of peak lists from multiple experiments\n",
    "\n",
    "In the previous example the list of peaks were aligned within a single\n",
    "experiment with multiple replicates (\"within-state alignment\"). In practice, it\n",
    "is of more interest to compare the two experimental states. \n",
    "\n",
    "In a typical experimental setup there can be multiple replicate experiments on\n",
    "each experimental state or condition. To analyze the results of such an\n",
    "experiment statistically, the list of peaks need to be aligned within each\n",
    "experimental state and also between the states. The result of such an alignment\n",
    "would be the data matrix of integrated peak areas. The data matrix contains a\n",
    "row for each sample and the number of columns is determined by the number of\n",
    "unique peaks (metabolites) detected in all the experiments.\n",
    "\n",
    "In principle, all experiments could be aligned across conditions and replicates\n",
    "in the one process. However, a more robust approach is to first align\n",
    "experiments within each set of replicates (within-state alignment), and then to\n",
    "align the resulting alignments (between-state alignment) [1]_.\n",
    "\n",
    "This example demonstrates how the peak lists from two cell states are aligned.\n",
    "\n",
    "* Cell state A, consisting of three aligned experiments \n",
    "(``a0806_077``, ``a0806_078``, and ``a0806_079``), and\n",
    "* Cell state B, consisting of three aligned experiments\n",
    "(``a0806_140``, ``a0806_141``, and ``a0806_142``).\n",
    "\n",
    "These experiments were created in the notebook ``Multiple_Experiments.ipynb``.\n",
    "\n",
    "First, perform within-state alignment for cell state B."
   ]
  },
  {
   "cell_type": "code",
   "execution_count": 9,
   "metadata": {
    "execution": {}
   },
   "outputs": [
    {
     "name": "stdout",
     "output_type": "stream",
     "text": [
      " Calculating pairwise alignments for 3 alignments (D=2.50, gap=0.30)\n",
      " -> 2 pairs remaining\n",
      " -> 1 pairs remaining\n",
      " -> 0 pairs remaining\n",
      " -> Clustering 6 pairwise alignments.Done\n",
      " Aligning 3 items with guide tree (D=2.50, gap=0.30)\n",
      " -> 1 item(s) remaining\n",
      " -> 0 item(s) remaining\n"
     ]
    }
   ],
   "source": [
    "exprB_codes = [\"a0806_140\", \"a0806_141\", \"a0806_142\"]\n",
    "\n",
    "expr_list = []\n",
    "\n",
    "for expr_code in exprB_codes:\n",
    "    file_name = output_directory / \"experiments\" / f\"{expr_code}.expr\"\n",
    "    expr = load_expr(file_name)\n",
    "    expr_list.append(expr)\n",
    "\n",
    "F2 = exprl2alignment(expr_list)\n",
    "T2 = PairwiseAlignment(F2, Dw, Gw)\n",
    "A2 = align_with_tree(T2, min_peaks=2)\n",
    "\n",
    "A2.write_csv(\n",
    "\t\toutput_directory / \"within_state_alignment\" / 'b_rt.csv', \n",
    "\t\toutput_directory / \"within_state_alignment\" / 'b_area.csv',\n",
    "\t\t)"
   ]
  },
  {
   "cell_type": "markdown",
   "metadata": {
    "collapsed": false
   },
   "source": [
    "``A1`` and ``A2`` are the results of the within group alignments for cell state A and B, respectively.\n",
    "The between-state alignment can be performed as follows alignment commands:"
   ]
  },
  {
   "cell_type": "code",
   "execution_count": 10,
   "metadata": {
    "execution": {}
   },
   "outputs": [
    {
     "name": "stdout",
     "output_type": "stream",
     "text": [
      " Calculating pairwise alignments for 2 alignments (D=10.00, gap=0.30)\n",
      " -> 0 pairs remaining\n",
      " -> Clustering 2 pairwise alignments.Done\n",
      " Aligning 2 items with guide tree (D=10.00, gap=0.30)\n",
      " -> 0 item(s) remaining\n"
     ]
    }
   ],
   "source": [
    "# Define the within-state alignment parameters.\n",
    "Db = 10.0 # rt modulation\n",
    "Gb = 0.30 # gap penalty\n",
    "\n",
    "T9 = PairwiseAlignment([A1,A2], Db, Gb)\n",
    "A9 = align_with_tree(T9)\n",
    "\n",
    "A9.write_csv(\n",
    "\t\toutput_directory / \"between_state_alignment\" / 'rt.csv', \n",
    "\t\toutput_directory / \"between_state_alignment\" / 'area.csv')"
   ]
  },
  {
   "cell_type": "markdown",
   "metadata": {
    "collapsed": false
   },
   "source": [
    "Store the aligned peaks to disk."
   ]
  },
  {
   "cell_type": "code",
   "execution_count": 11,
   "metadata": {
    "execution": {}
   },
   "outputs": [],
   "source": [
    "from pyms.Peak.List.IO import store_peaks\n",
    "\n",
    "aligned_peaks = A9.aligned_peaks()\n",
    "store_peaks(aligned_peaks, output_directory / \"between_state_alignment\" / 'peaks.bin')"
   ]
  },
  {
   "cell_type": "markdown",
   "metadata": {
    "collapsed": false
   },
   "source": [
    "In this example the retention time tolerance for between-state alignment is\n",
    "greater compared to the retention time tolerance for the within-state alignment\n",
    "as we expect less fidelity in retention times between them. The same functions\n",
    "are used for the within-state and between-state alignment. The result of the\n",
    "alignment is saved to a file as the area and retention time matrices\n",
    "(described above)."
   ]
  }
 ],
 "metadata": {
  "kernelspec": {
   "display_name": "Python 3",
   "language": "python",
   "name": "python3"
  },
  "language_info": {
   "codemirror_mode": {
    "name": "ipython",
    "version": 3
   },
   "file_extension": ".py",
   "mimetype": "text/x-python",
   "name": "python",
   "nbconvert_exporter": "python",
   "pygments_lexer": "ipython3",
   "version": "3.6.15"
  },
  "pycharm": {
   "stem_cell": {
    "cell_type": "raw",
    "metadata": {
     "collapsed": false
    },
    "source": []
   }
  }
 },
 "nbformat": 4,
 "nbformat_minor": 0
}
