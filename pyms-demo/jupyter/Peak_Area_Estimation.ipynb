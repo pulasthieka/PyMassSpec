{
 "cells": [
  {
   "cell_type": "markdown",
   "metadata": {
    "collapsed": false
   },
   "source": [
    "# Peak Area Estimation\n",
    "\n",
    "The |Peak| object does not contain any information about the width or area of\n",
    "the peak when it is first created. This information can be added after the \n",
    "instantiation of a Peak object. The area of the peak can be set with the \n",
    "attribute |pyms.Peak.Class.Peak.area|.\n",
    "\n",
    "The total peak area can by obtained by the |peak_sum_area()| function in\n",
    "|pyms.Peak.Function|. The function determines the total area as the sum of the\n",
    "ion intensities for all masses that apex at the given peak. To calculate the\n",
    "peak area of a single mass, the intensities are added from the apex of the\n",
    "mass peak outwards.\n",
    "\n",
    "Edge values are added until the following conditions are met:\n",
    "\n",
    "* the added intensity adds less than 0.5\\% to the accumulated area; or\n",
    "* the added intensity starts increasing (i.e. when the ion is common to\n",
    "  co-eluting compounds).\n",
    "\n",
    "To avoid noise effects, the edge value is taken at the midpoint of three consecutive edge values.\n",
    "\n",
    "First, build the Peak list as before"
   ]
  },
  {
   "cell_type": "code",
   "execution_count": 1,
   "metadata": {
    "execution": {}
   },
   "outputs": [
    {
     "name": "stdout",
     "output_type": "stream",
     "text": [
      " -> Reading JCAMP file '/home/runner/work/PyMassSpec/PyMassSpec/pyms-data/gc01_0812_066.jdx'\n"
     ]
    },
    {
     "data": {
      "text/plain": [
       "[<pyms.Peak.Class.Peak at 0x7f506b61f4e0>,\n",
       " <pyms.Peak.Class.Peak at 0x7f506b61f550>,\n",
       " <pyms.Peak.Class.Peak at 0x7f506b61f5f8>,\n",
       " <pyms.Peak.Class.Peak at 0x7f506b61f6a0>,\n",
       " <pyms.Peak.Class.Peak at 0x7f506b61f748>,\n",
       " <pyms.Peak.Class.Peak at 0x7f506b61f7f0>,\n",
       " <pyms.Peak.Class.Peak at 0x7f506b61f898>,\n",
       " <pyms.Peak.Class.Peak at 0x7f506b61f940>,\n",
       " <pyms.Peak.Class.Peak at 0x7f506b61f9e8>,\n",
       " <pyms.Peak.Class.Peak at 0x7f506b61fa90>]"
      ]
     },
     "execution_count": 1,
     "metadata": {},
     "output_type": "execute_result"
    }
   ],
   "source": [
    "import pathlib\n",
    "data_directory = pathlib.Path(\".\").resolve().parent.parent / \"pyms-data\"\n",
    "# Change this if the data files are stored in a different location\n",
    "\n",
    "output_directory = pathlib.Path(\".\").resolve() / \"output\"\n",
    "\n",
    "from pyms.GCMS.IO.JCAMP import JCAMP_reader\n",
    "from pyms.IntensityMatrix import build_intensity_matrix\n",
    "from pyms.Noise.SavitzkyGolay import savitzky_golay\n",
    "from pyms.TopHat import tophat\n",
    "from pyms.BillerBiemann import BillerBiemann\n",
    "\n",
    "jcamp_file = data_directory / \"gc01_0812_066.jdx\"\n",
    "data = JCAMP_reader(jcamp_file)\n",
    "im = build_intensity_matrix(data)\n",
    "\n",
    "n_scan, n_mz = im.size\n",
    "\n",
    "for ii in range(n_mz):\n",
    "    ic = im.get_ic_at_index(ii)\n",
    "    ic_smooth = savitzky_golay(ic)\n",
    "    ic_bc = tophat(ic_smooth, struct=\"1.5m\")\n",
    "    im.set_ic_at_index(ii, ic_bc)\n",
    "\n",
    "peak_list = BillerBiemann(im, points=9, scans=2)\n",
    "\n",
    "from pyms.Noise.Analysis import window_analyzer\n",
    "tic = data.tic\n",
    "noise_level = window_analyzer(tic)\n",
    "\n",
    "from pyms.BillerBiemann import num_ions_threshold\n",
    "filtered_peak_list = num_ions_threshold(peak_list, n=3, cutoff=noise_level)\n",
    "filtered_peak_list[:10]"
   ]
  },
  {
   "cell_type": "markdown",
   "metadata": {
    "collapsed": false
   },
   "source": [
    "Given a list of peaks, areas can be determined and added as follows:"
   ]
  },
  {
   "cell_type": "code",
   "execution_count": 2,
   "metadata": {
    "execution": {}
   },
   "outputs": [],
   "source": [
    "from pyms.Peak.Function import peak_sum_area\n",
    "for peak in peak_list:\n",
    "    area = peak_sum_area(im, peak)\n",
    "    peak.area = area\n"
   ]
  }
 ],
 "metadata": {
  "kernelspec": {
   "display_name": "Python 3",
   "language": "python",
   "name": "python3"
  },
  "language_info": {
   "codemirror_mode": {
    "name": "ipython",
    "version": 3
   },
   "file_extension": ".py",
   "mimetype": "text/x-python",
   "name": "python",
   "nbconvert_exporter": "python",
   "pygments_lexer": "ipython3",
   "version": "3.6.15"
  }
 },
 "nbformat": 4,
 "nbformat_minor": 0
}
