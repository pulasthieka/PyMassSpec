{
 "cells": [
  {
   "cell_type": "markdown",
   "metadata": {
    "collapsed": false
   },
   "source": [
    "## Example: Creating Multiple Experiments\n",
    "\n",
    "In example three GC-MS experiments are prepared for peak alignment. The \n",
    "experiments are named ``a0806_077``, ``a0806_078``, ``a0806_079``, and \n",
    "represent separate GC-MS sample runs from the same biological sample.\n",
    "\n",
    "The procedure is the same as for the previous example, but is repeated three times.\n",
    "\n",
    "First, setup the paths to the datafiles and the output directory, then import the required functions."
   ]
  },
  {
   "cell_type": "code",
   "execution_count": 1,
   "metadata": {
    "execution": {}
   },
   "outputs": [],
   "source": [
    "import pathlib\n",
    "data_directory = pathlib.Path(\".\").resolve().parent.parent / \"pyms-data\"\n",
    "# Change this if the data files are stored in a different location\n",
    "\n",
    "output_directory = pathlib.Path(\".\").resolve() / \"output\"\n",
    "\n",
    "from pyms.BillerBiemann import BillerBiemann, num_ions_threshold, rel_threshold\n",
    "from pyms.Experiment import Experiment\n",
    "from pyms.GCMS.IO.ANDI import ANDI_reader\n",
    "from pyms.IntensityMatrix import build_intensity_matrix_i\n",
    "from pyms.Noise.SavitzkyGolay import savitzky_golay\n",
    "from pyms.Peak.Function import peak_sum_area, peak_top_ion_areas\n",
    "from pyms.TopHat import tophat"
   ]
  },
  {
   "cell_type": "markdown",
   "metadata": {
    "collapsed": false
   },
   "source": [
    "Define the data files to process"
   ]
  },
  {
   "cell_type": "code",
   "execution_count": 2,
   "metadata": {
    "execution": {}
   },
   "outputs": [],
   "source": [
    "expr_codes = [\"a0806_077\", \"a0806_078\", \"a0806_079\"]\n",
    "# expr_codes = [\"a0806_140\", \"a0806_141\", \"a0806_142\"]"
   ]
  },
  {
   "cell_type": "markdown",
   "metadata": {
    "collapsed": false
   },
   "source": [
    "Loop over the experiments and perform the processing."
   ]
  },
  {
   "cell_type": "code",
   "execution_count": 3,
   "metadata": {
    "execution": {}
   },
   "outputs": [
    {
     "name": "stdout",
     "output_type": "stream",
     "text": [
      " -> Processing experiment 'a0806_077'\n",
      " -> Reading netCDF file '/home/runner/work/PyMassSpec/PyMassSpec/pyms-data/a0806_077.cdf'\n",
      "\t -> Number of Peaks found: 225\n",
      "\t -> Executing peak post-processing and quantification...\n",
      "\t -> Selecting retention time range between '6.5m' and '21m'\n",
      "\t -> Saving the result as '/home/runner/work/PyMassSpec/PyMassSpec/pyms-demo/jupyter/output/experiments/a0806_077.expr'\n",
      " -> Processing experiment 'a0806_078'\n",
      " -> Reading netCDF file '/home/runner/work/PyMassSpec/PyMassSpec/pyms-data/a0806_078.cdf'\n",
      "\t -> Number of Peaks found: 238\n",
      "\t -> Executing peak post-processing and quantification...\n",
      "\t -> Selecting retention time range between '6.5m' and '21m'\n",
      "\t -> Saving the result as '/home/runner/work/PyMassSpec/PyMassSpec/pyms-demo/jupyter/output/experiments/a0806_078.expr'\n",
      " -> Processing experiment 'a0806_079'\n",
      " -> Reading netCDF file '/home/runner/work/PyMassSpec/PyMassSpec/pyms-data/a0806_079.cdf'\n",
      "\t -> Number of Peaks found: 268\n",
      "\t -> Executing peak post-processing and quantification...\n",
      "\t -> Selecting retention time range between '6.5m' and '21m'\n",
      "\t -> Saving the result as '/home/runner/work/PyMassSpec/PyMassSpec/pyms-demo/jupyter/output/experiments/a0806_079.expr'\n"
     ]
    }
   ],
   "source": [
    "for expr_code in expr_codes:\n",
    "\n",
    "\tprint(f\" -> Processing experiment '{expr_code}'\")\t\n",
    "\n",
    "\tandi_file = data_directory / f\"{expr_code}.cdf\"\n",
    "\t\n",
    "\tdata = ANDI_reader(andi_file)\n",
    "\t\n",
    "\tim = build_intensity_matrix_i(data)\n",
    "\t\n",
    "\tn_scan, n_mz = im.size\n",
    "\t\n",
    "\t# Preprocess the data (Savitzky-Golay smoothing and Tophat baseline detection)\n",
    "\t\n",
    "\tfor ii in range(n_mz):\n",
    "\t\tic = im.get_ic_at_index(ii)\n",
    "\t\tic1 = savitzky_golay(ic)\n",
    "\t\tic_smooth = savitzky_golay(ic1)  # Why the second pass here?\n",
    "\t\tic_bc = tophat(ic_smooth, struct=\"1.5m\")\n",
    "\t\tim.set_ic_at_index(ii, ic_bc)\n",
    "\t\n",
    "\t# Peak detection\n",
    "\tpl = BillerBiemann(im, points=9, scans=2)\n",
    "\n",
    "\t# Trim the peak list by relative intensity\n",
    "\tapl = rel_threshold(pl, percent=2)\n",
    "\n",
    "\t# Trim the peak list by noise threshold\n",
    "\tpeak_list = num_ions_threshold(apl, n=3, cutoff=3000)\n",
    "\t\n",
    "\tprint(\"\\t -> Number of Peaks found:\", len(peak_list))\n",
    "\t\n",
    "\tprint(\"\\t -> Executing peak post-processing and quantification...\")\n",
    "\n",
    "\t# Set the mass range, remove unwanted ions and estimate the peak area\n",
    "\t# For peak alignment, all experiments must have the same mass range\n",
    "\t\t\n",
    "\tfor peak in peak_list:\n",
    "\t\tpeak.crop_mass(51, 540)\n",
    "\t\n",
    "\t\tpeak.null_mass(73)\n",
    "\t\tpeak.null_mass(147)\n",
    "\t\n",
    "\t\tarea = peak_sum_area(im, peak)\n",
    "\t\tpeak.area = area\n",
    "\t\tarea_dict = peak_top_ion_areas(im, peak)\n",
    "\t\tpeak.ion_areas = area_dict\n",
    "\t\t\n",
    "\t# Create an Experiment\n",
    "\texpr = Experiment(expr_code, peak_list)\n",
    "\t\n",
    "\t# Use the same retention time range for all experiments\n",
    "\tlo_rt_limit = \"6.5m\"\n",
    "\thi_rt_limit = \"21m\"\n",
    "\n",
    "\tprint(f\"\\t -> Selecting retention time range between '{lo_rt_limit}' and '{hi_rt_limit}'\")\n",
    "\n",
    "\texpr.sele_rt_range([lo_rt_limit, hi_rt_limit])\n",
    "\n",
    "\t# Save the experiment to disk.\n",
    "\toutput_file = output_directory / \"experiments\" / f\"{expr_code}.expr\"\n",
    "\tprint(f\"\\t -> Saving the result as '{output_file}'\")\n",
    "\n",
    "\texpr.dump(output_file)"
   ]
  },
  {
   "cell_type": "markdown",
   "metadata": {
    "collapsed": false
   },
   "source": [
    "The previous set of data all belong to the same experimental condition. That is,\n",
    "they represent one group and any comparison between the data is a within group\n",
    "comparison. For the original experiment, another set of GC-MS data was collected\n",
    "for a different experimental condition. This group must also be stored as a set\n",
    "of experiments, and can be used for between group comparison.\n",
    "\n",
    "The second set of data files are named ``a0806_140``, ``a0806_141``, and ``a0806_142``, and are\n",
    "processed and stored as above.\n",
    "\n",
    "In the example notebook, you can uncomment the line in code cell 2 and run the\n",
    "notebook again to process the second set of data files."
   ]
  }
 ],
 "metadata": {
  "kernelspec": {
   "display_name": "Python 3",
   "language": "python",
   "name": "python3"
  },
  "language_info": {
   "codemirror_mode": {
    "name": "ipython",
    "version": 3
   },
   "file_extension": ".py",
   "mimetype": "text/x-python",
   "name": "python",
   "nbconvert_exporter": "python",
   "pygments_lexer": "ipython3",
   "version": "3.6.15"
  },
  "pycharm": {
   "stem_cell": {
    "cell_type": "raw",
    "metadata": {
     "collapsed": false
    },
    "source": []
   }
  }
 },
 "nbformat": 4,
 "nbformat_minor": 0
}
