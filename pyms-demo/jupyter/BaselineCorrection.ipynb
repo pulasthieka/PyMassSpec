{
 "cells": [
  {
   "cell_type": "markdown",
   "metadata": {
    "collapsed": false
   },
   "source": [
    "# Baseline Correction\n",
    "\n",
    "Baseline distortion originating from instrument imperfections and experimental \n",
    "setup is often observed in mass spectrometry data, and off-line baseline \n",
    "correction is often an important step in data pre-processing. There are many\n",
    "approaches for baseline correction. One advanced approach is based on the \n",
    "top-hat transform developed in mathematical morphology, and used extensively in\n",
    "digital image processing for tasks such as image enhancement. Top-hat baseline\n",
    "correction was previously applied in proteomics based mass spectrometry.\n",
    "PyMS currently implements only the top-hat baseline corrector, using the SciPy\n",
    "package ``ndimage``.\n",
    "\n",
    "Application of the top-hat baseline corrector requires the size of the\n",
    "structural element to be specified. The structural element needs to be larger\n",
    "than the features one wants to retain in the spectrum after the top-hat\n",
    "transform. In the example below, the top-hat baseline corrector is applied to\n",
    "the TIC of the data set ``gc01_0812_066.cdf``, with the structural element of\n",
    "1.5 minutes:\n",
    "\n",
    "The purpose of noise smoothing is to remove high-frequency noise from data, \n",
    "and thereby increase the contribution of the signal relative to the contribution\n",
    "of the noise.\n",
    "\n",
    "First, setup the paths to the datafiles and the output directory, then import ANDI_reader, savitzky_golay and tophat."
   ]
  },
  {
   "cell_type": "code",
   "execution_count": 1,
   "metadata": {
    "execution": {}
   },
   "outputs": [],
   "source": [
    "import pathlib\n",
    "data_directory = pathlib.Path(\".\").resolve().parent.parent / \"pyms-data\"\n",
    "# Change this if the data files are stored in a different location\n",
    "\n",
    "output_directory = pathlib.Path(\".\").resolve() / \"output\"\n",
    "\n",
    "from pyms.GCMS.IO.ANDI import ANDI_reader\n",
    "from pyms.Noise.SavitzkyGolay import savitzky_golay\n",
    "from pyms.TopHat import tophat"
   ]
  },
  {
   "cell_type": "markdown",
   "metadata": {
    "collapsed": false
   },
   "source": [
    "Read the raw data files and extract the TIC."
   ]
  },
  {
   "cell_type": "code",
   "execution_count": 2,
   "metadata": {
    "execution": {}
   },
   "outputs": [
    {
     "name": "stdout",
     "output_type": "stream",
     "text": [
      " -> Reading netCDF file '/home/runner/work/PyMassSpec/PyMassSpec/pyms-data/gc01_0812_066.cdf'\n"
     ]
    }
   ],
   "source": [
    "andi_file = data_directory / \"gc01_0812_066.cdf\"\n",
    "data = ANDI_reader(andi_file)\n",
    "tic = data.tic"
   ]
  },
  {
   "cell_type": "markdown",
   "metadata": {
    "collapsed": false
   },
   "source": [
    "Perform Savitzky-Golay smoothing\n",
    " "
   ]
  },
  {
   "cell_type": "code",
   "execution_count": 3,
   "metadata": {
    "execution": {}
   },
   "outputs": [],
   "source": [
    "tic1 = savitzky_golay(tic)"
   ]
  },
  {
   "cell_type": "markdown",
   "metadata": {
    "collapsed": false
   },
   "source": [
    "Perform Tophat baseline correction"
   ]
  },
  {
   "cell_type": "code",
   "execution_count": 4,
   "metadata": {
    "execution": {}
   },
   "outputs": [],
   "source": [
    "tic2 = tophat(tic1, struct=\"1.5m\")"
   ]
  },
  {
   "cell_type": "markdown",
   "metadata": {
    "collapsed": false
   },
   "source": [
    "Save the output to disk"
   ]
  },
  {
   "cell_type": "code",
   "execution_count": 5,
   "metadata": {
    "execution": {}
   },
   "outputs": [],
   "source": [
    "tic.write(output_directory / \"baseline_correction_tic.dat\",minutes=True)\n",
    "tic1.write(output_directory / \"baseline_correction_tic_smooth.dat\",minutes=True)\n",
    "tic2.write(output_directory / \"baseline_correction_tic_smooth_bc.dat\",minutes=True)"
   ]
  },
  {
   "cell_type": "markdown",
   "metadata": {
    "collapsed": false
   },
   "source": [
    "## Tophat Baseline correction on an Intensity Matrix object\n",
    "\n",
    "The |tophat()| function acts on a single |IonChromatogram|. To perform baseline\n",
    "correction on an |IntensityMatrix| object (i.e. on all `Ion Chromatograms`)\n",
    "the |tophat_im()| function may be used.\n",
    "\n",
    "Using the same value for `struct` as above, |tophat_im()| is used as follows:"
   ]
  },
  {
   "cell_type": "code",
   "execution_count": 6,
   "metadata": {
    "execution": {}
   },
   "outputs": [],
   "source": [
    "from pyms.TopHat import tophat_im\n",
    "from pyms.IntensityMatrix import build_intensity_matrix\n",
    "im = build_intensity_matrix(data)\n",
    "im_base_corr = tophat_im(im, struct=\"1.5m\")"
   ]
  },
  {
   "cell_type": "markdown",
   "metadata": {
    "collapsed": false
   },
   "source": [
    "Write the IC for mass 73 to disk for both the original and smoothed |IntensityMatrix|:"
   ]
  },
  {
   "cell_type": "code",
   "execution_count": 7,
   "metadata": {
    "execution": {}
   },
   "outputs": [],
   "source": [
    "ic = im.get_ic_at_index(73)\n",
    "ic_base_corr = im_base_corr.get_ic_at_index(73)\n",
    "\n",
    "ic.write(output_directory/\"baseline_correction_ic.dat\",minutes=True)\n",
    "ic_base_corr.write(output_directory/\"baseline_correction_ic_base_corr.dat\",minutes=True)"
   ]
  },
  {
   "cell_type": "markdown",
   "metadata": {
    "collapsed": false
   },
   "source": []
  }
 ],
 "metadata": {
  "kernelspec": {
   "display_name": "Python 3",
   "language": "python",
   "name": "python3"
  },
  "language_info": {
   "codemirror_mode": {
    "name": "ipython",
    "version": 3
   },
   "file_extension": ".py",
   "mimetype": "text/x-python",
   "name": "python",
   "nbconvert_exporter": "python",
   "pygments_lexer": "ipython3",
   "version": "3.6.15"
  },
  "pycharm": {
   "stem_cell": {
    "cell_type": "raw",
    "metadata": {
     "collapsed": false
    },
    "source": []
   }
  }
 },
 "nbformat": 4,
 "nbformat_minor": 0
}
