{
 "cells": [
  {
   "cell_type": "markdown",
   "metadata": {
    "collapsed": false
   },
   "source": [
    "# Example: Peak Objects\n",
    "\n",
    "Fundamental to GC-MS analysis is the identification of individual components of\n",
    "the sample mix. The basic component unit is represented as a signal peak. \n",
    "In PyMassSpec a signal peak is represented as |Peak| object. PyMassSpec provides\n",
    "functions to detect peaks and create peaks (discussed at the end of the chapter).\n",
    "\n",
    "A peak object stores a minimal set of information about a signal peak, namely,\n",
    "the retention time at which the peak apex occurs and the mass spectra at the \n",
    "apex. Additional information, such as, peak width, TIC and individual ion \n",
    "areas can be filtered from the GC-MS data and added to the Peak object\n",
    "information.\n",
    "\n",
    "\n",
    "## Creating a Peak Object\n",
    "\n",
    "A peak object can be created for a scan at a given retention time by providing\n",
    "the retention time (in minutes or seconds) and the |MassSpectrum| object of the\n",
    "scan.\n",
    "\n",
    "First, setup the paths to the datafiles and the output directory, then import JCAMP_reader."
   ]
  },
  {
   "cell_type": "code",
   "execution_count": 1,
   "metadata": {
    "execution": {}
   },
   "outputs": [],
   "source": [
    "import pathlib\n",
    "data_directory = pathlib.Path(\".\").resolve().parent.parent / \"pyms-data\"\n",
    "# Change this if the data files are stored in a different location\n",
    "\n",
    "output_directory = pathlib.Path(\".\").resolve() / \"output\"\n",
    "\n",
    "from pyms.GCMS.IO.JCAMP import JCAMP_reader"
   ]
  },
  {
   "cell_type": "markdown",
   "metadata": {
    "collapsed": false
   },
   "source": [
    "Read the raw data files."
   ]
  },
  {
   "cell_type": "code",
   "execution_count": 2,
   "metadata": {
    "execution": {}
   },
   "outputs": [
    {
     "name": "stdout",
     "output_type": "stream",
     "text": [
      " -> Reading JCAMP file '/home/runner/work/PyMassSpec/PyMassSpec/pyms-data/gc01_0812_066.jdx'\n"
     ]
    }
   ],
   "source": [
    "jcamp_file = data_directory / \"gc01_0812_066.jdx\"\n",
    "data = JCAMP_reader(jcamp_file)"
   ]
  },
  {
   "cell_type": "markdown",
   "metadata": {
    "collapsed": false
   },
   "source": [
    "Build the |IntensityMatrix|."
   ]
  },
  {
   "cell_type": "code",
   "execution_count": 3,
   "metadata": {
    "execution": {}
   },
   "outputs": [],
   "source": [
    "from pyms.IntensityMatrix import build_intensity_matrix_i\n",
    "\n",
    "im = build_intensity_matrix_i(data)"
   ]
  },
  {
   "cell_type": "markdown",
   "metadata": {
    "collapsed": false
   },
   "source": [
    "Extract the |MassSpectrum| at 31.17 minutes in this example."
   ]
  },
  {
   "cell_type": "code",
   "execution_count": 4,
   "metadata": {
    "execution": {}
   },
   "outputs": [],
   "source": [
    "index = im.get_index_at_time(31.17*60.0)\n",
    "ms = im.get_ms_at_index(index)"
   ]
  },
  {
   "cell_type": "markdown",
   "metadata": {
    "collapsed": false
   },
   "source": [
    "Create a |Peak| object for the given retention time."
   ]
  },
  {
   "cell_type": "code",
   "execution_count": 5,
   "metadata": {
    "execution": {}
   },
   "outputs": [],
   "source": [
    "from pyms.Peak.Class import Peak\n",
    "peak = Peak(31.17, ms, minutes=True)\n"
   ]
  },
  {
   "cell_type": "markdown",
   "metadata": {
    "collapsed": false
   },
   "source": [
    "By default the retention time is assumed to be in seconds. The parameter \n",
    "``minutes`` can be set to ``True`` if the retention time is given in minutes.\n",
    "Internally, PyMassSpec stores retention times in seconds, so the ``minutes``\n",
    "parameter ensures the input and output of the retention time are in the same\n",
    "units.\n",
    "\n",
    "## Peak Object properties\n",
    "\n",
    "The retention time of the peak, in seconds, can be returned with |pyms.Peak.Class.Peak.rt|. \n",
    "The mass spectrum can be returned with |pyms.Peak.Class.Peak.mass_spectrum|.\n",
    "\n",
    "The |Peak| object constructs a unique identification (UID) based on the spectrum\n",
    "and retention time. This helps in managing lists of peaks (covered in the next\n",
    "chapter). The UID can be returned with |pyms.Peak.Class.Peak.UID|. The format\n",
    "of the UID is the masses of the two most abundant ions in the spectrum, the\n",
    "ratio of the abundances of the two ions, and the retention time (in the same\n",
    "units as given when the Peak object was created). The format is:\n"
   ]
  },
  {
   "cell_type": "markdown",
   "metadata": {
    "collapsed": false
   },
   "source": [
    "\n",
    "Mass1-Mass2-Ratio-RT\n"
   ]
  },
  {
   "cell_type": "markdown",
   "metadata": {
    "collapsed": false
   },
   "source": [
    "For example:"
   ]
  },
  {
   "cell_type": "code",
   "execution_count": 6,
   "metadata": {
    "execution": {}
   },
   "outputs": [
    {
     "data": {
      "text/plain": [
       "1870.2"
      ]
     },
     "execution_count": 1,
     "metadata": {},
     "output_type": "execute_result"
    }
   ],
   "source": [
    "peak.rt"
   ]
  },
  {
   "cell_type": "code",
   "execution_count": 7,
   "metadata": {
    "execution": {}
   },
   "outputs": [
    {
     "data": {
      "text/plain": [
       "'319-73-74-1870.20'"
      ]
     },
     "execution_count": 1,
     "metadata": {},
     "output_type": "execute_result"
    }
   ],
   "source": [
    "peak.UID"
   ]
  },
  {
   "cell_type": "code",
   "execution_count": 8,
   "metadata": {
    "execution": {}
   },
   "outputs": [
    {
     "data": {
      "text/plain": [
       "23"
      ]
     },
     "execution_count": 1,
     "metadata": {},
     "output_type": "execute_result"
    }
   ],
   "source": [
    "index = im.get_index_of_mass(73.3)\n",
    "\n",
    "index"
   ]
  },
  {
   "cell_type": "markdown",
   "metadata": {
    "collapsed": false
   },
   "source": [
    "## Modifying a Peak Object\n",
    "\n",
    "The Peak object has methods for modifying the mass spectrum. The mass range can\n",
    "be cropped to a smaller range with |crop_mass()|, and the intensity values for\n",
    "a single ion can be set to zero with |null_mass()|. For example, the mass range\n",
    "can be set from 60 to 450 |m/z|, and the ions related to sample preparation can\n",
    "be ignored by setting their intensities to zero as follows:"
   ]
  },
  {
   "cell_type": "code",
   "execution_count": 9,
   "metadata": {
    "execution": {}
   },
   "outputs": [],
   "source": [
    "peak.crop_mass(60, 450)\n",
    "peak.null_mass(73)\n",
    "peak.null_mass(147)"
   ]
  },
  {
   "cell_type": "markdown",
   "metadata": {
    "collapsed": false
   },
   "source": [
    "The UID is automatically updated to reflect the changes:"
   ]
  },
  {
   "cell_type": "code",
   "execution_count": 10,
   "metadata": {
    "execution": {}
   },
   "outputs": [
    {
     "data": {
      "text/plain": [
       "'319-205-54-1870.20'"
      ]
     },
     "execution_count": 1,
     "metadata": {},
     "output_type": "execute_result"
    }
   ],
   "source": [
    "peak.UID"
   ]
  },
  {
   "cell_type": "markdown",
   "metadata": {
    "collapsed": false
   },
   "source": [
    "It is also possible to change the peak mass spectrum by setting the attribute |pyms.Peak.Class.Peak.mass_spectrum|."
   ]
  }
 ],
 "metadata": {
  "kernelspec": {
   "display_name": "Python 3",
   "language": "python",
   "name": "python3"
  },
  "language_info": {
   "codemirror_mode": {
    "name": "ipython",
    "version": 3
   },
   "file_extension": ".py",
   "mimetype": "text/x-python",
   "name": "python",
   "nbconvert_exporter": "python",
   "pygments_lexer": "ipython3",
   "version": "3.6.15"
  }
 },
 "nbformat": 4,
 "nbformat_minor": 0
}
